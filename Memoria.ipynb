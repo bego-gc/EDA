{
 "cells": [
  {
   "cell_type": "markdown",
   "metadata": {},
   "source": [
    "# Memoria"
   ]
  },
  {
   "cell_type": "markdown",
   "metadata": {},
   "source": [
    "### Representación de las mujeres en la industria del cine. El test de Bechdel."
   ]
  },
  {
   "cell_type": "markdown",
   "metadata": {},
   "source": [
    "Este EDA trata sobre la industria audiovisual y la representación de la mujer en el cine, basándose en las puntuaciones del Test de Bechdel extraídas de varios datasets.\n",
    "\n",
    "El test de Bechdel/Wallace o The rule, es un método para evaluar la brecha de género en las películas, en las series y en otras producciones artísticas. Se menciona por primera vez en el cómic \"Unas lesbianas de cuidado\", obra de Alison Bechdel, aunque la autora atribuye la regla a Liz Wallace.\n",
    "\n",
    "Los criterios del test son:\n",
    "\n",
    "- Aparecen al menos dos personajes femeninos con nombre, no simples figurantes.\n",
    "- Tienen una conversación entre ellas.\n",
    "- El tema de la conversación no debe centrarse en un hombre ni en relaciones personales afectivas: por ejemplo, no superaría el test una conversación entre dos hermanas sobre su padre.\n",
    "\n",
    "#### Data\n",
    "Los datasets han sido sacados tanto de Kaggle como del API de bechdeltest.com, e incluyen películas internacionales.\n",
    "\n",
    "- El primer dataset incluye datos respecto al **rendimiento en taquilla de películas con protagonistas femeninas**, explora el impacto del género en el éxito en taquilla. Examina datos de películas lanzadas entre **1970 y 2013**, incluyendo sus presupuestos, ingresos nacionales e internacionales, y su estado de aprobación o rechazo en el **Test de Bechdel**, un punto de referencia que mide los sesgos de género en las películas.\n",
    "\n",
    "- El segundo dataset ha sido extreído de la API de la página web tesbechdel.com, e incluye la puntuación Bechdel de 10136 películas -del periodo **entre  1874 hasta 2023**- de 0 a 3. Una puntuación Bechdel inferior a 3 significa que la película no pasó el test Bechdel, y una puntuación Bechdel de 3 significa que la película lo aprobó.\n",
    "\n",
    "- El tercer dataset ha sido creado en Excel para añadir las columnas de \"género de director/a\" (dir_gender) y \"genéro cinematográfico\" (genre)"
   ]
  },
  {
   "cell_type": "markdown",
   "metadata": {},
   "source": [
    "#### Hipótesis:\n",
    "1. Evolución temporal: La desigualdad de género en la industria del cine ha disminuido con el tiempo, la **evolución de la representación** de las mujeres en el cine es **positiva**, en base a las calificaciones del test de Bechdel.\n",
    "\n",
    "2. Representación: **La mayoría de las películas actuales** tiende a presentar una proporción desigual de personajes masculinos y femeninos, y esta representación desigual se refleja en la cantidad de diálogo y tiempo en pantalla que se les otorga a los personajes de cada género. Más del 50% de todas las películas incluídas en el estudio **suspenden el test** de Bechdel.\n",
    "\n",
    "3. Mujeres en dirección: Las películas con **directoras femeninas aprueban el test de Bechdel** más habitualmente que las dirigidas por hombres. \n",
    "\n",
    "4. Protagonistas femeninas: Las películas con protagonistas femeninas aprueban en más de un 60%"
   ]
  },
  {
   "cell_type": "markdown",
   "metadata": {},
   "source": [
    "#### Conclusiones:\n",
    "1. Analizando df 1 y df 2, se **confirma** que la evolución de la representación de mujeres en el cine es positiva, viendo los porcentajes de aprobados y suspensos del test de Bechdel en los años y períodos.\n",
    "\n",
    "2. Se **refuta** esta hipótesis: el análisis indica que más del 50% de las películas de la muestra que incluye todos los datasets aprobaría el test de Bechdel.\n",
    "\n",
    "3. Se **confirma** que las películas con mujeres en la dirección tienen mayor tendencia a aprobar el test de Bechdel (en la muestra provisional de 50 películas de 2023)\n",
    "\n",
    "4. Con el primer dataset, que incluye películas con protagonistas femeninas (no tiene por qué ser la protagonista principal) y sus resultados en el test de Behdel, se **refuta** la hipótesis número 4, el hecho de que sean obras audiovisuales con protagonistas femeninas no hace que el ratio de aprobados sea mayor que en otros casos.\n",
    "\n",
    "\n",
    "\n"
   ]
  },
  {
   "cell_type": "markdown",
   "metadata": {},
   "source": [
    "(...)"
   ]
  }
 ],
 "metadata": {
  "language_info": {
   "name": "python"
  }
 },
 "nbformat": 4,
 "nbformat_minor": 2
}
